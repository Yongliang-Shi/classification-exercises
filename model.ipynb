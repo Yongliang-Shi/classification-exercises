{
 "cells": [
  {
   "cell_type": "markdown",
   "metadata": {},
   "source": [
    "### In this exercise, we'll continue working with the titanic dataset and building logistic regression models. Througout this exercise, be sure you are training, evaluation, and comparing models on the train and validate dataset. The test dataset should be only used for your final model. \n",
    "\n",
    "### For all of the models you create, choose a threshold that optimizes for accuracy. \n",
    "\n",
    "### Do your work for these exercises in either a notebook or a python script named model within your classification-exercises repository. Add, commit, and push your work."
   ]
  },
  {
   "cell_type": "markdown",
   "metadata": {},
   "source": [
    "**Takeways**:\n",
    "1. Build logistic regression models for titanic dataset.\n",
    "2. Several models need to be build. \n",
    "3. Accuray is the evaluation metrics. \n",
    "4. Target varibale: the survivied (categorical)\n",
    "5. The positive case is predicting the survivied\n",
    "    - TP: predicting survived actually survivied\n",
    "    - FP: predicting survived actually being a victim\n",
    "    - TN: predicting being a victim acturally was a victim\n",
    "    - FN: predicting being a victim acturally survived"
   ]
  },
  {
   "cell_type": "code",
   "execution_count": 82,
   "metadata": {},
   "outputs": [],
   "source": [
    "import numpy as np\n",
    "import pandas as pd\n",
    "\n",
    "import matplotlib.pyplot as plt\n",
    "import seaborn as sns\n",
    "\n",
    "import warnings\n",
    "warnings.filterwarnings(\"ignore\")\n",
    "\n",
    "import acquire\n",
    "import prepare\n",
    "\n",
    "from sklearn.linear_model import LogisticRegression\n",
    "from sklearn.metrics import classification_report, confusion_matrix"
   ]
  },
  {
   "cell_type": "markdown",
   "metadata": {},
   "source": [
    "### 1. Create another model that includes age in addition to fare and pclass. Does this model perform better than your previous one? "
   ]
  },
  {
   "cell_type": "code",
   "execution_count": 83,
   "metadata": {},
   "outputs": [
    {
     "data": {
      "text/html": [
       "<div>\n",
       "<style scoped>\n",
       "    .dataframe tbody tr th:only-of-type {\n",
       "        vertical-align: middle;\n",
       "    }\n",
       "\n",
       "    .dataframe tbody tr th {\n",
       "        vertical-align: top;\n",
       "    }\n",
       "\n",
       "    .dataframe thead th {\n",
       "        text-align: right;\n",
       "    }\n",
       "</style>\n",
       "<table border=\"1\" class=\"dataframe\">\n",
       "  <thead>\n",
       "    <tr style=\"text-align: right;\">\n",
       "      <th></th>\n",
       "      <th>passenger_id</th>\n",
       "      <th>survived</th>\n",
       "      <th>pclass</th>\n",
       "      <th>sex</th>\n",
       "      <th>age</th>\n",
       "      <th>sibsp</th>\n",
       "      <th>parch</th>\n",
       "      <th>fare</th>\n",
       "      <th>embarked</th>\n",
       "      <th>class</th>\n",
       "      <th>deck</th>\n",
       "      <th>embark_town</th>\n",
       "      <th>alone</th>\n",
       "    </tr>\n",
       "  </thead>\n",
       "  <tbody>\n",
       "    <tr>\n",
       "      <th>0</th>\n",
       "      <td>0</td>\n",
       "      <td>0</td>\n",
       "      <td>3</td>\n",
       "      <td>male</td>\n",
       "      <td>22.0</td>\n",
       "      <td>1</td>\n",
       "      <td>0</td>\n",
       "      <td>7.2500</td>\n",
       "      <td>S</td>\n",
       "      <td>Third</td>\n",
       "      <td>NaN</td>\n",
       "      <td>Southampton</td>\n",
       "      <td>0</td>\n",
       "    </tr>\n",
       "    <tr>\n",
       "      <th>1</th>\n",
       "      <td>1</td>\n",
       "      <td>1</td>\n",
       "      <td>1</td>\n",
       "      <td>female</td>\n",
       "      <td>38.0</td>\n",
       "      <td>1</td>\n",
       "      <td>0</td>\n",
       "      <td>71.2833</td>\n",
       "      <td>C</td>\n",
       "      <td>First</td>\n",
       "      <td>C</td>\n",
       "      <td>Cherbourg</td>\n",
       "      <td>0</td>\n",
       "    </tr>\n",
       "    <tr>\n",
       "      <th>2</th>\n",
       "      <td>2</td>\n",
       "      <td>1</td>\n",
       "      <td>3</td>\n",
       "      <td>female</td>\n",
       "      <td>26.0</td>\n",
       "      <td>0</td>\n",
       "      <td>0</td>\n",
       "      <td>7.9250</td>\n",
       "      <td>S</td>\n",
       "      <td>Third</td>\n",
       "      <td>NaN</td>\n",
       "      <td>Southampton</td>\n",
       "      <td>1</td>\n",
       "    </tr>\n",
       "    <tr>\n",
       "      <th>3</th>\n",
       "      <td>3</td>\n",
       "      <td>1</td>\n",
       "      <td>1</td>\n",
       "      <td>female</td>\n",
       "      <td>35.0</td>\n",
       "      <td>1</td>\n",
       "      <td>0</td>\n",
       "      <td>53.1000</td>\n",
       "      <td>S</td>\n",
       "      <td>First</td>\n",
       "      <td>C</td>\n",
       "      <td>Southampton</td>\n",
       "      <td>0</td>\n",
       "    </tr>\n",
       "    <tr>\n",
       "      <th>4</th>\n",
       "      <td>4</td>\n",
       "      <td>0</td>\n",
       "      <td>3</td>\n",
       "      <td>male</td>\n",
       "      <td>35.0</td>\n",
       "      <td>0</td>\n",
       "      <td>0</td>\n",
       "      <td>8.0500</td>\n",
       "      <td>S</td>\n",
       "      <td>Third</td>\n",
       "      <td>NaN</td>\n",
       "      <td>Southampton</td>\n",
       "      <td>1</td>\n",
       "    </tr>\n",
       "  </tbody>\n",
       "</table>\n",
       "</div>"
      ],
      "text/plain": [
       "   passenger_id  survived  pclass     sex   age  sibsp  parch     fare  \\\n",
       "0             0         0       3    male  22.0      1      0   7.2500   \n",
       "1             1         1       1  female  38.0      1      0  71.2833   \n",
       "2             2         1       3  female  26.0      0      0   7.9250   \n",
       "3             3         1       1  female  35.0      1      0  53.1000   \n",
       "4             4         0       3    male  35.0      0      0   8.0500   \n",
       "\n",
       "  embarked  class deck  embark_town  alone  \n",
       "0        S  Third  NaN  Southampton      0  \n",
       "1        C  First    C    Cherbourg      0  \n",
       "2        S  Third  NaN  Southampton      1  \n",
       "3        S  First    C  Southampton      0  \n",
       "4        S  Third  NaN  Southampton      1  "
      ]
     },
     "execution_count": 83,
     "metadata": {},
     "output_type": "execute_result"
    }
   ],
   "source": [
    "# Acquire titanic data.\n",
    "\n",
    "titanic = acquire.get_titanic_data()\n",
    "titanic.head()"
   ]
  },
  {
   "cell_type": "code",
   "execution_count": 84,
   "metadata": {},
   "outputs": [
    {
     "data": {
      "text/html": [
       "<div>\n",
       "<style scoped>\n",
       "    .dataframe tbody tr th:only-of-type {\n",
       "        vertical-align: middle;\n",
       "    }\n",
       "\n",
       "    .dataframe tbody tr th {\n",
       "        vertical-align: top;\n",
       "    }\n",
       "\n",
       "    .dataframe thead th {\n",
       "        text-align: right;\n",
       "    }\n",
       "</style>\n",
       "<table border=\"1\" class=\"dataframe\">\n",
       "  <thead>\n",
       "    <tr style=\"text-align: right;\">\n",
       "      <th></th>\n",
       "      <th>passenger_id</th>\n",
       "      <th>survived</th>\n",
       "      <th>pclass</th>\n",
       "      <th>sex</th>\n",
       "      <th>age</th>\n",
       "      <th>sibsp</th>\n",
       "      <th>parch</th>\n",
       "      <th>fare</th>\n",
       "      <th>embarked</th>\n",
       "      <th>class</th>\n",
       "      <th>embark_town</th>\n",
       "      <th>alone</th>\n",
       "      <th>embarked_Q</th>\n",
       "      <th>embarked_S</th>\n",
       "    </tr>\n",
       "  </thead>\n",
       "  <tbody>\n",
       "    <tr>\n",
       "      <th>583</th>\n",
       "      <td>583</td>\n",
       "      <td>0</td>\n",
       "      <td>1</td>\n",
       "      <td>male</td>\n",
       "      <td>36.0</td>\n",
       "      <td>0</td>\n",
       "      <td>0</td>\n",
       "      <td>40.1250</td>\n",
       "      <td>C</td>\n",
       "      <td>First</td>\n",
       "      <td>Cherbourg</td>\n",
       "      <td>1</td>\n",
       "      <td>0</td>\n",
       "      <td>0</td>\n",
       "    </tr>\n",
       "    <tr>\n",
       "      <th>337</th>\n",
       "      <td>337</td>\n",
       "      <td>1</td>\n",
       "      <td>1</td>\n",
       "      <td>female</td>\n",
       "      <td>41.0</td>\n",
       "      <td>0</td>\n",
       "      <td>0</td>\n",
       "      <td>134.5000</td>\n",
       "      <td>C</td>\n",
       "      <td>First</td>\n",
       "      <td>Cherbourg</td>\n",
       "      <td>1</td>\n",
       "      <td>0</td>\n",
       "      <td>0</td>\n",
       "    </tr>\n",
       "    <tr>\n",
       "      <th>50</th>\n",
       "      <td>50</td>\n",
       "      <td>0</td>\n",
       "      <td>3</td>\n",
       "      <td>male</td>\n",
       "      <td>7.0</td>\n",
       "      <td>4</td>\n",
       "      <td>1</td>\n",
       "      <td>39.6875</td>\n",
       "      <td>S</td>\n",
       "      <td>Third</td>\n",
       "      <td>Southampton</td>\n",
       "      <td>0</td>\n",
       "      <td>0</td>\n",
       "      <td>1</td>\n",
       "    </tr>\n",
       "    <tr>\n",
       "      <th>218</th>\n",
       "      <td>218</td>\n",
       "      <td>1</td>\n",
       "      <td>1</td>\n",
       "      <td>female</td>\n",
       "      <td>32.0</td>\n",
       "      <td>0</td>\n",
       "      <td>0</td>\n",
       "      <td>76.2917</td>\n",
       "      <td>C</td>\n",
       "      <td>First</td>\n",
       "      <td>Cherbourg</td>\n",
       "      <td>1</td>\n",
       "      <td>0</td>\n",
       "      <td>0</td>\n",
       "    </tr>\n",
       "    <tr>\n",
       "      <th>31</th>\n",
       "      <td>31</td>\n",
       "      <td>1</td>\n",
       "      <td>1</td>\n",
       "      <td>female</td>\n",
       "      <td>24.0</td>\n",
       "      <td>1</td>\n",
       "      <td>0</td>\n",
       "      <td>146.5208</td>\n",
       "      <td>C</td>\n",
       "      <td>First</td>\n",
       "      <td>Cherbourg</td>\n",
       "      <td>0</td>\n",
       "      <td>0</td>\n",
       "      <td>0</td>\n",
       "    </tr>\n",
       "  </tbody>\n",
       "</table>\n",
       "</div>"
      ],
      "text/plain": [
       "     passenger_id  survived  pclass     sex   age  sibsp  parch      fare  \\\n",
       "583           583         0       1    male  36.0      0      0   40.1250   \n",
       "337           337         1       1  female  41.0      0      0  134.5000   \n",
       "50             50         0       3    male   7.0      4      1   39.6875   \n",
       "218           218         1       1  female  32.0      0      0   76.2917   \n",
       "31             31         1       1  female  24.0      1      0  146.5208   \n",
       "\n",
       "    embarked  class  embark_town  alone  embarked_Q  embarked_S  \n",
       "583        C  First    Cherbourg      1           0           0  \n",
       "337        C  First    Cherbourg      1           0           0  \n",
       "50         S  Third  Southampton      0           0           1  \n",
       "218        C  First    Cherbourg      1           0           0  \n",
       "31         C  First    Cherbourg      0           0           0  "
      ]
     },
     "execution_count": 84,
     "metadata": {},
     "output_type": "execute_result"
    }
   ],
   "source": [
    "# Prepare titanic dataset\n",
    "\n",
    "train, validate, test = prepare.prep_titanic(titanic)\n",
    "train.head()"
   ]
  },
  {
   "cell_type": "code",
   "execution_count": 85,
   "metadata": {},
   "outputs": [
    {
     "data": {
      "text/plain": [
       "((497, 14), (214, 14), (178, 14))"
      ]
     },
     "execution_count": 85,
     "metadata": {},
     "output_type": "execute_result"
    }
   ],
   "source": [
    "train.shape, validate.shape, test.shape"
   ]
  },
  {
   "cell_type": "code",
   "execution_count": 86,
   "metadata": {},
   "outputs": [
    {
     "data": {
      "text/plain": [
       "passenger_id    0\n",
       "survived        0\n",
       "pclass          0\n",
       "sex             0\n",
       "age             0\n",
       "sibsp           0\n",
       "parch           0\n",
       "fare            0\n",
       "embarked        0\n",
       "class           0\n",
       "embark_town     0\n",
       "alone           0\n",
       "embarked_Q      0\n",
       "embarked_S      0\n",
       "dtype: int64"
      ]
     },
     "execution_count": 86,
     "metadata": {},
     "output_type": "execute_result"
    }
   ],
   "source": [
    "# Double check if there is any missing values\n",
    "\n",
    "train.isnull().sum()"
   ]
  },
  {
   "cell_type": "code",
   "execution_count": 87,
   "metadata": {
    "scrolled": false
   },
   "outputs": [
    {
     "data": {
      "text/plain": [
       "0    307\n",
       "1    190\n",
       "Name: survived, dtype: int64"
      ]
     },
     "execution_count": 87,
     "metadata": {},
     "output_type": "execute_result"
    }
   ],
   "source": [
    "# Establish the baseline\n",
    "\n",
    "train.survived.value_counts()"
   ]
  },
  {
   "cell_type": "code",
   "execution_count": 88,
   "metadata": {},
   "outputs": [
    {
     "data": {
      "text/plain": [
       "0.3822937625754527"
      ]
     },
     "execution_count": 88,
     "metadata": {},
     "output_type": "execute_result"
    }
   ],
   "source": [
    "# Compute baseline accuracy: (TP + TN) / All\n",
    "\n",
    "190 /(190+307)"
   ]
  },
  {
   "cell_type": "markdown",
   "metadata": {},
   "source": [
    "### Model 1: X = ['fare', 'pclass'], y = 'survived'\n",
    "1. fare: continuous\n",
    "2. pclass: categotical"
   ]
  },
  {
   "cell_type": "code",
   "execution_count": 89,
   "metadata": {},
   "outputs": [
    {
     "data": {
      "text/plain": [
       "((497, 2), (497, 1))"
      ]
     },
     "execution_count": 89,
     "metadata": {},
     "output_type": "execute_result"
    }
   ],
   "source": [
    "# fare and pclass are the X in model1.\n",
    "\n",
    "X_train_model1 = train[['fare', 'pclass']]\n",
    "y_train_model1 = train[['survived']]\n",
    "\n",
    "X_train_model1.shape, y_train_model1.shape"
   ]
  },
  {
   "cell_type": "code",
   "execution_count": 90,
   "metadata": {},
   "outputs": [
    {
     "name": "stdout",
     "output_type": "stream",
     "text": [
      "Coefficient: \n",
      " [[ 0.00391168 -0.74992231]]\n",
      "Intercept: \n",
      " [1.06417548]\n"
     ]
    }
   ],
   "source": [
    "# Create the logistic regression object\n",
    "\n",
    "logit1 = LogisticRegression(C=1)\n",
    "\n",
    "# Fit the model to the training data\n",
    "\n",
    "logit1.fit(X_train_model1, y_train_model1)\n",
    "\n",
    "# Print the coefficients and intercept of the model\n",
    "\n",
    "print('Coefficient: \\n', logit1.coef_)\n",
    "print('Intercept: \\n', logit1.intercept_)"
   ]
  },
  {
   "cell_type": "code",
   "execution_count": 92,
   "metadata": {},
   "outputs": [],
   "source": [
    "# Estimate whether or not a passenger would survive, using the training data\n",
    "\n",
    "y_pred_model1 = logit1.predict(X_train_model1)\n",
    "y_pred_model1\n",
    "\n",
    "# Estimate the probablity of a passenger surviving, using the training data\n",
    "y_pred_proba_model1 = logit1.predict_proba(X_train_model1)"
   ]
  },
  {
   "cell_type": "markdown",
   "metadata": {},
   "source": [
    "**Evalute model on train**"
   ]
  },
  {
   "cell_type": "code",
   "execution_count": 93,
   "metadata": {},
   "outputs": [
    {
     "name": "stdout",
     "output_type": "stream",
     "text": [
      "0.682092555331992\n",
      "[[261  46]\n",
      " [112  78]]\n",
      "              precision    recall  f1-score   support\n",
      "\n",
      "           0       0.70      0.85      0.77       307\n",
      "           1       0.63      0.41      0.50       190\n",
      "\n",
      "    accuracy                           0.68       497\n",
      "   macro avg       0.66      0.63      0.63       497\n",
      "weighted avg       0.67      0.68      0.66       497\n",
      "\n"
     ]
    }
   ],
   "source": [
    "# Compute the accuracy\n",
    "\n",
    "print(logit1.score(X_train_model1, y_train_model1))\n",
    "\n",
    "# Create a confusion matrix\n",
    "\n",
    "print(confusion_matrix(y_train_model1, y_pred_model1))\n",
    "\n",
    "# Compute Precision, Recall, F1-score, and Support\n",
    "\n",
    "print(classification_report(y_train_model1, y_pred_model1))"
   ]
  },
  {
   "cell_type": "markdown",
   "metadata": {},
   "source": [
    "### Model 2: X = ['fare', 'pclass', 'age'], y = 'survived'"
   ]
  },
  {
   "cell_type": "code",
   "execution_count": 94,
   "metadata": {},
   "outputs": [
    {
     "data": {
      "text/plain": [
       "((497, 3), (497, 1))"
      ]
     },
     "execution_count": 94,
     "metadata": {},
     "output_type": "execute_result"
    }
   ],
   "source": [
    "# fare, pclass, age are the X in model2.\n",
    "\n",
    "X_train_model2 = train[['fare', 'pclass', 'age']]\n",
    "y_train_model2 = train[['survived']]\n",
    "\n",
    "X_train_model2.shape, y_train_model2.shape"
   ]
  },
  {
   "cell_type": "markdown",
   "metadata": {},
   "source": [
    "**Create, Fit & Predict**"
   ]
  },
  {
   "cell_type": "code",
   "execution_count": 98,
   "metadata": {
    "scrolled": true
   },
   "outputs": [
    {
     "name": "stdout",
     "output_type": "stream",
     "text": [
      "Coefficient: \n",
      " [[ 0.00276706 -0.97541889 -0.02864116]]\n",
      "Intercept: \n",
      " [2.42980594]\n"
     ]
    }
   ],
   "source": [
    "# Create the logistic regression object\n",
    "\n",
    "logit2 = LogisticRegression(C=1)\n",
    "\n",
    "# Fit the model to the training data\n",
    "\n",
    "logit2.fit(X_train_model2, y_train_model2)\n",
    "\n",
    "# Print the coefficients and intercept of the model\n",
    "\n",
    "print('Coefficient: \\n', logit2.coef_)\n",
    "print('Intercept: \\n', logit2.intercept_)\n",
    "\n",
    "# Estimate whether or not a passenger would survive, using the training data\n",
    "\n",
    "y_pred_model2 = logit2.predict(X_train_model2)\n",
    "y_pred_model2\n",
    "\n",
    "# Estimate the probablity of a passenger surviving, using the training data\n",
    "y_pred_proba_model2 = logit2.predict_proba(X_train_model2)"
   ]
  },
  {
   "cell_type": "markdown",
   "metadata": {},
   "source": [
    "**Evalute model on train**"
   ]
  },
  {
   "cell_type": "code",
   "execution_count": 99,
   "metadata": {},
   "outputs": [
    {
     "name": "stdout",
     "output_type": "stream",
     "text": [
      "Accuracy:  0.72\n",
      "Confusion matrix: \n",
      " [[268  39]\n",
      " [102  88]]\n",
      "              precision    recall  f1-score   support\n",
      "\n",
      "           0       0.72      0.87      0.79       307\n",
      "           1       0.69      0.46      0.56       190\n",
      "\n",
      "    accuracy                           0.72       497\n",
      "   macro avg       0.71      0.67      0.67       497\n",
      "weighted avg       0.71      0.72      0.70       497\n",
      "\n"
     ]
    }
   ],
   "source": [
    "# Compute the accuracy\n",
    "\n",
    "print('Accuracy: {: .2f}'.format(logit2.score(X_train_model2, y_train_model2)))\n",
    "\n",
    "# Create a confusion matrix\n",
    "\n",
    "print('Confusion matrix: \\n', confusion_matrix(y_train_model2, y_pred_model2))\n",
    "\n",
    "# Compute Precision, Recall, F1-score, and Support\n",
    "\n",
    "print(classification_report(y_train_model2, y_pred_model2))"
   ]
  },
  {
   "cell_type": "markdown",
   "metadata": {},
   "source": [
    "### 2. Include sex in your model as well. Note that you'll need to encode or create a dummy variable of this feature before including it in a model."
   ]
  },
  {
   "cell_type": "code",
   "execution_count": 101,
   "metadata": {},
   "outputs": [
    {
     "data": {
      "text/html": [
       "<div>\n",
       "<style scoped>\n",
       "    .dataframe tbody tr th:only-of-type {\n",
       "        vertical-align: middle;\n",
       "    }\n",
       "\n",
       "    .dataframe tbody tr th {\n",
       "        vertical-align: top;\n",
       "    }\n",
       "\n",
       "    .dataframe thead th {\n",
       "        text-align: right;\n",
       "    }\n",
       "</style>\n",
       "<table border=\"1\" class=\"dataframe\">\n",
       "  <thead>\n",
       "    <tr style=\"text-align: right;\">\n",
       "      <th></th>\n",
       "      <th>passenger_id</th>\n",
       "      <th>survived</th>\n",
       "      <th>pclass</th>\n",
       "      <th>sex</th>\n",
       "      <th>age</th>\n",
       "      <th>sibsp</th>\n",
       "      <th>parch</th>\n",
       "      <th>fare</th>\n",
       "      <th>embarked</th>\n",
       "      <th>class</th>\n",
       "      <th>embark_town</th>\n",
       "      <th>alone</th>\n",
       "      <th>embarked_Q</th>\n",
       "      <th>embarked_S</th>\n",
       "    </tr>\n",
       "  </thead>\n",
       "  <tbody>\n",
       "    <tr>\n",
       "      <th>583</th>\n",
       "      <td>583</td>\n",
       "      <td>0</td>\n",
       "      <td>1</td>\n",
       "      <td>male</td>\n",
       "      <td>36.0</td>\n",
       "      <td>0</td>\n",
       "      <td>0</td>\n",
       "      <td>40.1250</td>\n",
       "      <td>C</td>\n",
       "      <td>First</td>\n",
       "      <td>Cherbourg</td>\n",
       "      <td>1</td>\n",
       "      <td>0</td>\n",
       "      <td>0</td>\n",
       "    </tr>\n",
       "    <tr>\n",
       "      <th>337</th>\n",
       "      <td>337</td>\n",
       "      <td>1</td>\n",
       "      <td>1</td>\n",
       "      <td>female</td>\n",
       "      <td>41.0</td>\n",
       "      <td>0</td>\n",
       "      <td>0</td>\n",
       "      <td>134.5000</td>\n",
       "      <td>C</td>\n",
       "      <td>First</td>\n",
       "      <td>Cherbourg</td>\n",
       "      <td>1</td>\n",
       "      <td>0</td>\n",
       "      <td>0</td>\n",
       "    </tr>\n",
       "    <tr>\n",
       "      <th>50</th>\n",
       "      <td>50</td>\n",
       "      <td>0</td>\n",
       "      <td>3</td>\n",
       "      <td>male</td>\n",
       "      <td>7.0</td>\n",
       "      <td>4</td>\n",
       "      <td>1</td>\n",
       "      <td>39.6875</td>\n",
       "      <td>S</td>\n",
       "      <td>Third</td>\n",
       "      <td>Southampton</td>\n",
       "      <td>0</td>\n",
       "      <td>0</td>\n",
       "      <td>1</td>\n",
       "    </tr>\n",
       "    <tr>\n",
       "      <th>218</th>\n",
       "      <td>218</td>\n",
       "      <td>1</td>\n",
       "      <td>1</td>\n",
       "      <td>female</td>\n",
       "      <td>32.0</td>\n",
       "      <td>0</td>\n",
       "      <td>0</td>\n",
       "      <td>76.2917</td>\n",
       "      <td>C</td>\n",
       "      <td>First</td>\n",
       "      <td>Cherbourg</td>\n",
       "      <td>1</td>\n",
       "      <td>0</td>\n",
       "      <td>0</td>\n",
       "    </tr>\n",
       "    <tr>\n",
       "      <th>31</th>\n",
       "      <td>31</td>\n",
       "      <td>1</td>\n",
       "      <td>1</td>\n",
       "      <td>female</td>\n",
       "      <td>24.0</td>\n",
       "      <td>1</td>\n",
       "      <td>0</td>\n",
       "      <td>146.5208</td>\n",
       "      <td>C</td>\n",
       "      <td>First</td>\n",
       "      <td>Cherbourg</td>\n",
       "      <td>0</td>\n",
       "      <td>0</td>\n",
       "      <td>0</td>\n",
       "    </tr>\n",
       "  </tbody>\n",
       "</table>\n",
       "</div>"
      ],
      "text/plain": [
       "     passenger_id  survived  pclass     sex   age  sibsp  parch      fare  \\\n",
       "583           583         0       1    male  36.0      0      0   40.1250   \n",
       "337           337         1       1  female  41.0      0      0  134.5000   \n",
       "50             50         0       3    male   7.0      4      1   39.6875   \n",
       "218           218         1       1  female  32.0      0      0   76.2917   \n",
       "31             31         1       1  female  24.0      1      0  146.5208   \n",
       "\n",
       "    embarked  class  embark_town  alone  embarked_Q  embarked_S  \n",
       "583        C  First    Cherbourg      1           0           0  \n",
       "337        C  First    Cherbourg      1           0           0  \n",
       "50         S  Third  Southampton      0           0           1  \n",
       "218        C  First    Cherbourg      1           0           0  \n",
       "31         C  First    Cherbourg      0           0           0  "
      ]
     },
     "execution_count": 101,
     "metadata": {},
     "output_type": "execute_result"
    }
   ],
   "source": [
    "train.head()"
   ]
  },
  {
   "cell_type": "code",
   "execution_count": 102,
   "metadata": {
    "scrolled": true
   },
   "outputs": [
    {
     "data": {
      "text/html": [
       "<div>\n",
       "<style scoped>\n",
       "    .dataframe tbody tr th:only-of-type {\n",
       "        vertical-align: middle;\n",
       "    }\n",
       "\n",
       "    .dataframe tbody tr th {\n",
       "        vertical-align: top;\n",
       "    }\n",
       "\n",
       "    .dataframe thead th {\n",
       "        text-align: right;\n",
       "    }\n",
       "</style>\n",
       "<table border=\"1\" class=\"dataframe\">\n",
       "  <thead>\n",
       "    <tr style=\"text-align: right;\">\n",
       "      <th></th>\n",
       "      <th>passenger_id</th>\n",
       "      <th>survived</th>\n",
       "      <th>pclass</th>\n",
       "      <th>sex</th>\n",
       "      <th>age</th>\n",
       "      <th>sibsp</th>\n",
       "      <th>parch</th>\n",
       "      <th>fare</th>\n",
       "      <th>embarked</th>\n",
       "      <th>class</th>\n",
       "      <th>embark_town</th>\n",
       "      <th>alone</th>\n",
       "      <th>embarked_Q</th>\n",
       "      <th>embarked_S</th>\n",
       "      <th>female</th>\n",
       "      <th>male</th>\n",
       "    </tr>\n",
       "  </thead>\n",
       "  <tbody>\n",
       "    <tr>\n",
       "      <th>583</th>\n",
       "      <td>583</td>\n",
       "      <td>0</td>\n",
       "      <td>1</td>\n",
       "      <td>male</td>\n",
       "      <td>36.0</td>\n",
       "      <td>0</td>\n",
       "      <td>0</td>\n",
       "      <td>40.1250</td>\n",
       "      <td>C</td>\n",
       "      <td>First</td>\n",
       "      <td>Cherbourg</td>\n",
       "      <td>1</td>\n",
       "      <td>0</td>\n",
       "      <td>0</td>\n",
       "      <td>0</td>\n",
       "      <td>1</td>\n",
       "    </tr>\n",
       "    <tr>\n",
       "      <th>337</th>\n",
       "      <td>337</td>\n",
       "      <td>1</td>\n",
       "      <td>1</td>\n",
       "      <td>female</td>\n",
       "      <td>41.0</td>\n",
       "      <td>0</td>\n",
       "      <td>0</td>\n",
       "      <td>134.5000</td>\n",
       "      <td>C</td>\n",
       "      <td>First</td>\n",
       "      <td>Cherbourg</td>\n",
       "      <td>1</td>\n",
       "      <td>0</td>\n",
       "      <td>0</td>\n",
       "      <td>1</td>\n",
       "      <td>0</td>\n",
       "    </tr>\n",
       "    <tr>\n",
       "      <th>50</th>\n",
       "      <td>50</td>\n",
       "      <td>0</td>\n",
       "      <td>3</td>\n",
       "      <td>male</td>\n",
       "      <td>7.0</td>\n",
       "      <td>4</td>\n",
       "      <td>1</td>\n",
       "      <td>39.6875</td>\n",
       "      <td>S</td>\n",
       "      <td>Third</td>\n",
       "      <td>Southampton</td>\n",
       "      <td>0</td>\n",
       "      <td>0</td>\n",
       "      <td>1</td>\n",
       "      <td>0</td>\n",
       "      <td>1</td>\n",
       "    </tr>\n",
       "    <tr>\n",
       "      <th>218</th>\n",
       "      <td>218</td>\n",
       "      <td>1</td>\n",
       "      <td>1</td>\n",
       "      <td>female</td>\n",
       "      <td>32.0</td>\n",
       "      <td>0</td>\n",
       "      <td>0</td>\n",
       "      <td>76.2917</td>\n",
       "      <td>C</td>\n",
       "      <td>First</td>\n",
       "      <td>Cherbourg</td>\n",
       "      <td>1</td>\n",
       "      <td>0</td>\n",
       "      <td>0</td>\n",
       "      <td>1</td>\n",
       "      <td>0</td>\n",
       "    </tr>\n",
       "    <tr>\n",
       "      <th>31</th>\n",
       "      <td>31</td>\n",
       "      <td>1</td>\n",
       "      <td>1</td>\n",
       "      <td>female</td>\n",
       "      <td>24.0</td>\n",
       "      <td>1</td>\n",
       "      <td>0</td>\n",
       "      <td>146.5208</td>\n",
       "      <td>C</td>\n",
       "      <td>First</td>\n",
       "      <td>Cherbourg</td>\n",
       "      <td>0</td>\n",
       "      <td>0</td>\n",
       "      <td>0</td>\n",
       "      <td>1</td>\n",
       "      <td>0</td>\n",
       "    </tr>\n",
       "  </tbody>\n",
       "</table>\n",
       "</div>"
      ],
      "text/plain": [
       "     passenger_id  survived  pclass     sex   age  sibsp  parch      fare  \\\n",
       "583           583         0       1    male  36.0      0      0   40.1250   \n",
       "337           337         1       1  female  41.0      0      0  134.5000   \n",
       "50             50         0       3    male   7.0      4      1   39.6875   \n",
       "218           218         1       1  female  32.0      0      0   76.2917   \n",
       "31             31         1       1  female  24.0      1      0  146.5208   \n",
       "\n",
       "    embarked  class  embark_town  alone  embarked_Q  embarked_S  female  male  \n",
       "583        C  First    Cherbourg      1           0           0       0     1  \n",
       "337        C  First    Cherbourg      1           0           0       1     0  \n",
       "50         S  Third  Southampton      0           0           1       0     1  \n",
       "218        C  First    Cherbourg      1           0           0       1     0  \n",
       "31         C  First    Cherbourg      0           0           0       1     0  "
      ]
     },
     "execution_count": 102,
     "metadata": {},
     "output_type": "execute_result"
    }
   ],
   "source": [
    "sex_dummy = pd.get_dummies(train.sex)\n",
    "train = pd.concat([train, sex_dummy], axis=1)\n",
    "train.head()"
   ]
  },
  {
   "cell_type": "code",
   "execution_count": 103,
   "metadata": {},
   "outputs": [
    {
     "name": "stdout",
     "output_type": "stream",
     "text": [
      "<class 'pandas.core.frame.DataFrame'>\n",
      "Int64Index: 497 entries, 583 to 553\n",
      "Data columns (total 16 columns):\n",
      " #   Column        Non-Null Count  Dtype  \n",
      "---  ------        --------------  -----  \n",
      " 0   passenger_id  497 non-null    int64  \n",
      " 1   survived      497 non-null    int64  \n",
      " 2   pclass        497 non-null    int64  \n",
      " 3   sex           497 non-null    object \n",
      " 4   age           497 non-null    float64\n",
      " 5   sibsp         497 non-null    int64  \n",
      " 6   parch         497 non-null    int64  \n",
      " 7   fare          497 non-null    float64\n",
      " 8   embarked      497 non-null    object \n",
      " 9   class         497 non-null    object \n",
      " 10  embark_town   497 non-null    object \n",
      " 11  alone         497 non-null    int64  \n",
      " 12  embarked_Q    497 non-null    uint8  \n",
      " 13  embarked_S    497 non-null    uint8  \n",
      " 14  female        497 non-null    uint8  \n",
      " 15  male          497 non-null    uint8  \n",
      "dtypes: float64(2), int64(6), object(4), uint8(4)\n",
      "memory usage: 52.4+ KB\n"
     ]
    }
   ],
   "source": [
    "train.info()"
   ]
  },
  {
   "cell_type": "markdown",
   "metadata": {},
   "source": [
    "### Model 3: X = ['fare', 'pclass', 'age', 'male'], y = ['survivied']"
   ]
  },
  {
   "cell_type": "code",
   "execution_count": 104,
   "metadata": {},
   "outputs": [
    {
     "data": {
      "text/plain": [
       "((497, 4), (497, 1))"
      ]
     },
     "execution_count": 104,
     "metadata": {},
     "output_type": "execute_result"
    }
   ],
   "source": [
    "# fare, pclass, age, and male are the X in model2.\n",
    "\n",
    "X_train_model3 = train[['fare', 'pclass', 'age', 'male']]\n",
    "y_train_model3 = train[['survived']]\n",
    "\n",
    "X_train_model3.shape, y_train_model3.shape"
   ]
  },
  {
   "cell_type": "code",
   "execution_count": 105,
   "metadata": {
    "scrolled": true
   },
   "outputs": [
    {
     "name": "stdout",
     "output_type": "stream",
     "text": [
      "Coefficient: \n",
      " [[ 9.90901614e-04 -1.11080403e+00 -2.51556288e-02 -2.46196700e+00]]\n",
      "Intercept: \n",
      " [4.22516921]\n"
     ]
    }
   ],
   "source": [
    "# Create the logistic regression object\n",
    "\n",
    "logit3 = LogisticRegression(C=1)\n",
    "\n",
    "# Fit the model to the training data\n",
    "\n",
    "logit3.fit(X_train_model3, y_train_model3)\n",
    "\n",
    "# Print the coefficients and intercept of the model\n",
    "\n",
    "print('Coefficient: \\n', logit3.coef_)\n",
    "print('Intercept: \\n', logit3.intercept_)\n",
    "\n",
    "# Estimate whether or not a passenger would survive, using the training data\n",
    "\n",
    "y_pred_model3 = logit3.predict(X_train_model3)\n",
    "y_pred_model3\n",
    "\n",
    "# Estimate the probablity of a passenger surviving, using the training data\n",
    "y_pred_proba_model3 = logit3.predict_proba(X_train_model3)"
   ]
  },
  {
   "cell_type": "code",
   "execution_count": null,
   "metadata": {},
   "outputs": [],
   "source": [
    "# Compute the accuracy\n",
    "\n",
    "logit3.score(X_train_model3, y_train_model3)"
   ]
  },
  {
   "cell_type": "code",
   "execution_count": null,
   "metadata": {},
   "outputs": [],
   "source": [
    "# Create a confusion matrix\n",
    "\n",
    "confusion_matrix(y_train_model3, y_pred_model3)"
   ]
  },
  {
   "cell_type": "code",
   "execution_count": null,
   "metadata": {},
   "outputs": [],
   "source": [
    "# Compute Precision, Recall, F1-score, and Support\n",
    "\n",
    "print(classification_report(y_train_model3, y_pred_model3))"
   ]
  },
  {
   "cell_type": "markdown",
   "metadata": {},
   "source": [
    "**Notes**\n",
    "1. Previous model only contains fare and pclass as the X. \n",
    "2. No missing values in the train dataset. "
   ]
  },
  {
   "cell_type": "markdown",
   "metadata": {},
   "source": [
    "### 3. Try out other combinations of features and models.\n",
    "\n",
    "### Model 4: X = ['pcalss', 'male'], y = 'survived'"
   ]
  },
  {
   "cell_type": "code",
   "execution_count": null,
   "metadata": {},
   "outputs": [],
   "source": [
    "# pclass and male are the X in model2.\n",
    "\n",
    "X_train_model4 = train[['pclass', 'male']]\n",
    "y_train_model4 = train[['survived']]\n",
    "\n",
    "X_train_model4.shape, y_train_model4.shape"
   ]
  },
  {
   "cell_type": "code",
   "execution_count": null,
   "metadata": {},
   "outputs": [],
   "source": [
    "# Create the logistic regression object\n",
    "\n",
    "logit4 = LogisticRegression(C=1)\n",
    "\n",
    "# Fit the model to the training data\n",
    "\n",
    "logit4.fit(X_train_model4, y_train_model4)\n",
    "\n",
    "# Print the coefficients and intercept of the model\n",
    "\n",
    "print('Coefficient: \\n', logit4.coef_)\n",
    "print('Intercept: \\n', logit4.intercept_)"
   ]
  },
  {
   "cell_type": "code",
   "execution_count": null,
   "metadata": {},
   "outputs": [],
   "source": [
    "# Estimate whether or not a passenger would survive, using the training data\n",
    "\n",
    "y_pred_model4 = logit4.predict(X_train_model4)\n",
    "y_pred_model4\n",
    "\n",
    "# Estimate the probablity of a passenger surviving, using the training data\n",
    "y_pred_proba_model4 = logit4.predict_proba(X_train_model4)"
   ]
  },
  {
   "cell_type": "code",
   "execution_count": null,
   "metadata": {},
   "outputs": [],
   "source": [
    "# Compute the accuracy\n",
    "\n",
    "logit4.score(X_train_model4, y_train_model4)"
   ]
  },
  {
   "cell_type": "code",
   "execution_count": null,
   "metadata": {},
   "outputs": [],
   "source": [
    "# Create a confusion matrix\n",
    "\n",
    "confusion_matrix(y_train_model4, y_pred_model4)"
   ]
  },
  {
   "cell_type": "code",
   "execution_count": null,
   "metadata": {},
   "outputs": [],
   "source": [
    "# Compute Precision, Recall, F1-score, and Support\n",
    "\n",
    "print(classification_report(y_train_model4, y_pred_model4))"
   ]
  },
  {
   "cell_type": "markdown",
   "metadata": {},
   "source": [
    "### 4. Use best 3 models to predict and evaluate your validate sample\n",
    "* Best 3: model 2, 3, 4"
   ]
  },
  {
   "cell_type": "code",
   "execution_count": null,
   "metadata": {},
   "outputs": [],
   "source": [
    "# Load validate dataset\n",
    "\n",
    "validate.head()"
   ]
  },
  {
   "cell_type": "code",
   "execution_count": null,
   "metadata": {},
   "outputs": [],
   "source": [
    "sex_dummy = pd.get_dummies(validate.sex, drop_first=True)\n",
    "validate = pd.concat([validate, sex_dummy], axis=1)\n",
    "validate.head()"
   ]
  },
  {
   "cell_type": "code",
   "execution_count": null,
   "metadata": {},
   "outputs": [],
   "source": [
    "validate.shape"
   ]
  },
  {
   "cell_type": "code",
   "execution_count": null,
   "metadata": {},
   "outputs": [],
   "source": [
    "# Load validate dataset for Model 2\n",
    "\n",
    "X_validate_model2 = validate[['fare', 'pclass', 'age']]\n",
    "y_validate_model2 = validate[['survived']]\n",
    "\n",
    "# Estimate whether or not a passenger would survive, using the training data\n",
    "\n",
    "y_pred_model2 = logit2.predict(X_validate_model2)\n",
    "y_pred_model2\n",
    "\n",
    "# Estimate the probablity of a passenger surviving, using the training data\n",
    "y_pred_proba_model2 = logit2.predict_proba(X_validate_model2)\n",
    "\n",
    "# Compute the accuracy\n",
    "\n",
    "print('Accuracy: {: .2f}'.format(logit2.score(X_validate_model2, y_validate_model2)))\n",
    "\n",
    "# Create a confusion matrix\n",
    "\n",
    "print(confusion_matrix(y_validate_model2, y_pred_model2))\n",
    "\n",
    "# Compute Precision, Recall, F1-score, and Support\n",
    "\n",
    "print(classification_report(y_validate_model2, y_pred_model2))"
   ]
  },
  {
   "cell_type": "code",
   "execution_count": null,
   "metadata": {},
   "outputs": [],
   "source": [
    "# Load validate dataset for Model 3\n",
    "\n",
    "X_validate_model3 = validate[['fare', 'pclass', 'age', 'male']]\n",
    "y_validate_model3 = validate[['survived']]\n",
    "\n",
    "# Estimate whether or not a passenger would survive, using the training data\n",
    "\n",
    "y_pred_model3 = logit3.predict(X_validate_model3)\n",
    "y_pred_model3\n",
    "\n",
    "# Estimate the probablity of a passenger surviving, using the training data\n",
    "y_pred_proba_model3 = logit3.predict_proba(X_validate_model3)\n",
    "\n",
    "# Compute the accuracy\n",
    "\n",
    "print('Accuracy: {: .2f}'.format(logit3.score(X_validate_model3, y_validate_model3)))\n",
    "\n",
    "# Create a confusion matrix\n",
    "\n",
    "print(confusion_matrix(y_validate_model3, y_pred_model3))\n",
    "\n",
    "# Compute Precision, Recall, F1-score, and Support\n",
    "\n",
    "print(classification_report(y_validate_model3, y_pred_model3))"
   ]
  },
  {
   "cell_type": "code",
   "execution_count": null,
   "metadata": {},
   "outputs": [],
   "source": [
    "# Load validate dataset for Model 4\n",
    "\n",
    "X_validate_model4 = validate[['pclass', 'male']]\n",
    "y_validate_model4 = validate[['survived']]\n",
    "\n",
    "# Estimate whether or not a passenger would survive, using the training data\n",
    "\n",
    "y_pred_model4 = logit4.predict(X_validate_model4)\n",
    "y_pred_model4\n",
    "\n",
    "# Estimate the probablity of a passenger surviving, using the training data\n",
    "y_pred_proba_model4 = logit4.predict_proba(X_validate_model4)\n",
    "\n",
    "# Compute the accuracy\n",
    "\n",
    "print('Accuracy: {: .2f}'.format(logit4.score(X_validate_model4, y_validate_model4)))\n",
    "\n",
    "# Create a confusion matrix\n",
    "\n",
    "print(confusion_matrix(y_validate_model4, y_pred_model4))\n",
    "\n",
    "# Compute Precision, Recall, F1-score, and Support\n",
    "\n",
    "print(classification_report(y_validate_model4, y_pred_model4))"
   ]
  },
  {
   "cell_type": "markdown",
   "metadata": {},
   "source": [
    "### 5. Choose you best model from the validation performation, and evaluate it on the test dataset. How do the performance metrics compare to validate? to train?\n",
    "* Best model from the validation: Model 3"
   ]
  },
  {
   "cell_type": "code",
   "execution_count": null,
   "metadata": {},
   "outputs": [],
   "source": [
    "test.head()"
   ]
  },
  {
   "cell_type": "code",
   "execution_count": null,
   "metadata": {},
   "outputs": [],
   "source": [
    "test.shape"
   ]
  },
  {
   "cell_type": "code",
   "execution_count": null,
   "metadata": {},
   "outputs": [],
   "source": [
    "sex_dummy = pd.get_dummies(test.sex, drop_first=True)\n",
    "test = pd.concat([test, sex_dummy], axis=1)\n",
    "test.head()"
   ]
  },
  {
   "cell_type": "code",
   "execution_count": null,
   "metadata": {},
   "outputs": [],
   "source": [
    "# Load test dataset for Model 3\n",
    "\n",
    "X_test_model3 = test[['fare', 'pclass', 'age', 'male']]\n",
    "y_test_model3 = test[['survived']]\n",
    "\n",
    "# Estimate whether or not a passenger would survive, using the training data\n",
    "\n",
    "y_pred_model3 = logit3.predict(X_test_model3)\n",
    "y_pred_model3\n",
    "\n",
    "# Estimate the probablity of a passenger surviving, using the training data\n",
    "y_pred_proba_model3 = logit3.predict_proba(X_test_model3)\n",
    "\n",
    "# Compute the accuracy\n",
    "\n",
    "print('Accuracy: {: .2f}'.format(logit3.score(X_test_model3, y_test_model3)))\n",
    "\n",
    "# Create a confusion matrix\n",
    "\n",
    "print(confusion_matrix(y_test_model3, y_pred_model3))\n",
    "\n",
    "# Compute Precision, Recall, F1-score, and Support\n",
    "\n",
    "print(classification_report(y_test_model3, y_pred_model3))"
   ]
  },
  {
   "cell_type": "markdown",
   "metadata": {},
   "source": [
    "**Notes**: The accuracy from test dataset(0.80) is a little better than the validate(0.78) and train(0.79)."
   ]
  },
  {
   "cell_type": "markdown",
   "metadata": {},
   "source": [
    "### Bonus 1. How do different strategies for handling the missing values in the age column affect model performance? \n",
    "\n",
    "**Notes**\n",
    "1. In the current titanic dataset, the stragegy for handling the missing values in the age column is SimpleImpute = 'most_frequent')\n",
    "2. There are four strategies in the SimpleImpute:\n",
    "    - mean\n",
    "    - median\n",
    "    - most_frequent\n",
    "    - constant\n",
    "3. The best model for now is Model 3\n",
    "\n",
    "**My Plan**\n",
    "\n",
    "1. I will use a different strategy in SimpleImpute and then compare the performance for model 3. \n",
    "2. Which stragegy I am gonna use? mean or median. "
   ]
  },
  {
   "cell_type": "code",
   "execution_count": null,
   "metadata": {},
   "outputs": [],
   "source": [
    "raw_titanic = acquire.get_titanic_data()\n",
    "raw_titanic.head()"
   ]
  },
  {
   "cell_type": "code",
   "execution_count": null,
   "metadata": {},
   "outputs": [],
   "source": [
    "# age columns has 177 null values\n",
    "\n",
    "null_age = raw_titanic.age.isnull().sum()\n",
    "null_age"
   ]
  },
  {
   "cell_type": "code",
   "execution_count": null,
   "metadata": {},
   "outputs": [],
   "source": [
    "# The percentage of null values in age column\n",
    "\n",
    "null_age/raw_titanic.age.size"
   ]
  },
  {
   "cell_type": "code",
   "execution_count": null,
   "metadata": {},
   "outputs": [],
   "source": [
    "# Most frequent age\n",
    "\n",
    "# raw_titanic.age.value_counts().head(1)\n",
    "raw_titanic.age.mode()"
   ]
  },
  {
   "cell_type": "code",
   "execution_count": null,
   "metadata": {},
   "outputs": [],
   "source": [
    "raw_titanic.age.plot.hist()"
   ]
  },
  {
   "cell_type": "code",
   "execution_count": null,
   "metadata": {},
   "outputs": [],
   "source": [
    "raw_titanic.age.agg(['mean', 'median'])"
   ]
  },
  {
   "cell_type": "code",
   "execution_count": null,
   "metadata": {},
   "outputs": [],
   "source": [
    "# Who are missing the age values?\n",
    "\n",
    "mask = raw_titanic.age.isnull()\n",
    "raw_titanic[mask].alone.value_counts()"
   ]
  },
  {
   "cell_type": "code",
   "execution_count": null,
   "metadata": {},
   "outputs": [],
   "source": [
    "raw_titanic.head()"
   ]
  },
  {
   "cell_type": "code",
   "execution_count": null,
   "metadata": {},
   "outputs": [],
   "source": [
    "train, validate, test = prepare.prep_titanic_mean(raw_titanic)\n",
    "train.head()"
   ]
  },
  {
   "cell_type": "code",
   "execution_count": null,
   "metadata": {},
   "outputs": [],
   "source": [
    "# Visualization of age distrubtion after replacing the missing values with mean. \n",
    "\n",
    "train.age.plot.hist(alpha=0.5)\n",
    "raw_titanic.age.plot.hist(alpha=0.5)"
   ]
  },
  {
   "cell_type": "code",
   "execution_count": null,
   "metadata": {},
   "outputs": [],
   "source": [
    "train.shape, validate.shape, test.shape"
   ]
  },
  {
   "cell_type": "code",
   "execution_count": null,
   "metadata": {},
   "outputs": [],
   "source": [
    "# Create dummy variables of sex in train dataset. \n",
    "\n",
    "sex_dummy = pd.get_dummies(train.sex, drop_first=True)\n",
    "train = pd.concat([train, sex_dummy], axis=1)\n",
    "train.head()"
   ]
  },
  {
   "cell_type": "code",
   "execution_count": null,
   "metadata": {},
   "outputs": [],
   "source": [
    "# fare, pclass, age, and male are the X in model 3. \n",
    "\n",
    "X_train_model3 = train[['fare', 'pclass', 'age', 'male']]\n",
    "y_train_model3 = train[['survived']]\n",
    "\n",
    "X_train_model3.shape, y_train_model3.shape"
   ]
  },
  {
   "cell_type": "code",
   "execution_count": null,
   "metadata": {},
   "outputs": [],
   "source": [
    "# Create the logistic regression object\n",
    "\n",
    "logit3 = LogisticRegression(C=1)\n",
    "\n",
    "# Fit the model to the training data\n",
    "\n",
    "logit3.fit(X_train_model3, y_train_model3)\n",
    "\n",
    "# Print the coefficients and intercept of the model\n",
    "\n",
    "print('Coefficient: \\n', logit3.coef_)\n",
    "print('Intercept: \\n', logit3.intercept_)"
   ]
  },
  {
   "cell_type": "code",
   "execution_count": null,
   "metadata": {},
   "outputs": [],
   "source": [
    "# Estimate whether or not a passenger would survive, using the training data\n",
    "\n",
    "y_pred_model3 = logit3.predict(X_train_model3)\n",
    "y_pred_model3\n",
    "\n",
    "# Estimate the probablity of a passenger surviving, using the training data\n",
    "y_pred_proba_model3 = logit3.predict_proba(X_train_model3)"
   ]
  },
  {
   "cell_type": "code",
   "execution_count": null,
   "metadata": {},
   "outputs": [],
   "source": [
    "# Compute the accuracy\n",
    "\n",
    "logit3.score(X_train_model3, y_train_model3)"
   ]
  },
  {
   "cell_type": "code",
   "execution_count": null,
   "metadata": {},
   "outputs": [],
   "source": [
    "# Create a confusion matrix\n",
    "\n",
    "print(confusion_matrix(y_train_model3, y_pred_model3))\n",
    "\n",
    "# Compute Precision, Recall, F1-score, and Support\n",
    "\n",
    "print(classification_report(y_train_model3, y_pred_model3))"
   ]
  },
  {
   "cell_type": "markdown",
   "metadata": {},
   "source": [
    "**Notes**\n",
    "1. Age columns has 177 null values, about ~20% of all data. \n",
    "2. Most frequence age is 24. \n",
    "3. The mean age is 29.7.\n",
    "4. The median age is 28.0.\n",
    "5. Among whom are missing the age values, 133 are alone, and 44 had accompaniers. \n",
    "\n",
    "**Choice**\n",
    "1. I am gonna use mean as the alternative strategy. Let's see how it affect the performance. \n",
    "\n",
    "**Results**\n",
    "1. The accuracy is increased slightly from 0.791 to 0.799. \n",
    "2. Since the coefficient of age is small (0.027), it doesn't weigh that much in the model, which may explain the reason for such small change in accuracy. "
   ]
  },
  {
   "cell_type": "markdown",
   "metadata": {},
   "source": [
    "### Bonus 2: How do different strategies for encoding sex affect model performance."
   ]
  },
  {
   "cell_type": "code",
   "execution_count": null,
   "metadata": {},
   "outputs": [],
   "source": [
    "raw_titanic.head()"
   ]
  },
  {
   "cell_type": "code",
   "execution_count": null,
   "metadata": {
    "scrolled": true
   },
   "outputs": [],
   "source": [
    "raw_titanic.sex.isnull().sum()"
   ]
  },
  {
   "cell_type": "code",
   "execution_count": null,
   "metadata": {},
   "outputs": [],
   "source": [
    "raw_titanic.sex.value_counts()"
   ]
  },
  {
   "cell_type": "code",
   "execution_count": null,
   "metadata": {},
   "outputs": [],
   "source": []
  },
  {
   "cell_type": "markdown",
   "metadata": {},
   "source": [
    "**Notes**\n",
    "1. Sex columns has zero null values.\n",
    "2. Sex columns contain 577 males and 312 females.\n",
    "3. In the model 3, the male is 1 and the female is 0.\n",
    "\n",
    "**Alternative stragety for encoding sex**\n",
    "1. The male is 0 and the female is 1. \n",
    "2. My hypothesis is there is no change in the model performance. "
   ]
  },
  {
   "cell_type": "code",
   "execution_count": null,
   "metadata": {},
   "outputs": [],
   "source": [
    "train.head()"
   ]
  },
  {
   "cell_type": "code",
   "execution_count": null,
   "metadata": {},
   "outputs": [],
   "source": []
  }
 ],
 "metadata": {
  "kernelspec": {
   "display_name": "Python 3",
   "language": "python",
   "name": "python3"
  },
  "language_info": {
   "codemirror_mode": {
    "name": "ipython",
    "version": 3
   },
   "file_extension": ".py",
   "mimetype": "text/x-python",
   "name": "python",
   "nbconvert_exporter": "python",
   "pygments_lexer": "ipython3",
   "version": "3.7.6"
  }
 },
 "nbformat": 4,
 "nbformat_minor": 4
}
